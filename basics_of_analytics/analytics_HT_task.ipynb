{
  "nbformat": 4,
  "nbformat_minor": 0,
  "metadata": {
    "colab": {
      "provenance": []
    },
    "kernelspec": {
      "name": "python3",
      "display_name": "Python 3"
    },
    "language_info": {
      "name": "python"
    }
  },
  "cells": [
    {
      "cell_type": "markdown",
      "source": [
        "# Основы аналитики. Домашнее задание\n",
        "\n",
        "В этом домашнем задании вы отработаете навыки, полученные в модуле, на реальных данных о населении в разных странах мира по годам."
      ],
      "metadata": {
        "id": "yhkxDE_fBKwP"
      }
    },
    {
      "cell_type": "code",
      "source": [
        "import pandas as pd\n",
        "import numpy as np\n",
        "from matplotlib import pyplot as plt"
      ],
      "metadata": {
        "id": "MO4uy__q7V5j"
      },
      "execution_count": null,
      "outputs": []
    },
    {
      "cell_type": "code",
      "execution_count": null,
      "metadata": {
        "id": "rcYbvtvU6NCl"
      },
      "outputs": [],
      "source": [
        "df = pd.read_csv(\"https://raw.githubusercontent.com/aiedu-courses/all_datasets/main/Population.csv\", delimiter=';')"
      ]
    },
    {
      "cell_type": "code",
      "source": [
        "df.head()"
      ],
      "metadata": {
        "colab": {
          "base_uri": "https://localhost:8080/",
          "height": 348
        },
        "id": "S-CmtOYP6f25",
        "outputId": "b839043c-dd40-40e6-df4e-a39cd6eddc4c"
      },
      "execution_count": null,
      "outputs": [
        {
          "output_type": "execute_result",
          "data": {
            "text/plain": [
              "                  Country Name         1960         1961         1962  \\\n",
              "0                        Aruba      54608.0      55811.0      56682.0   \n",
              "1  Africa Eastern and Southern  130692579.0  134169237.0  137835590.0   \n",
              "2                  Afghanistan    8622466.0    8790140.0    8969047.0   \n",
              "3   Africa Western and Central   97256290.0   99314028.0  101445032.0   \n",
              "4                       Angola    5357195.0    5441333.0    5521400.0   \n",
              "\n",
              "          1963         1964         1965         1966         1967  \\\n",
              "0      57475.0      58178.0      58782.0      59291.0      59522.0   \n",
              "1  141630546.0  145605995.0  149742351.0  153955516.0  158313235.0   \n",
              "2    9157465.0    9355514.0    9565147.0    9783147.0   10010030.0   \n",
              "3  103667517.0  105959979.0  108336203.0  110798486.0  113319950.0   \n",
              "4    5599827.0    5673199.0    5736582.0    5787044.0    5827503.0   \n",
              "\n",
              "          1968  ...         2013         2014         2015         2016  \\\n",
              "0      59471.0  ...     102880.0     103594.0     104257.0     104874.0   \n",
              "1  162875171.0  ...  567892149.0  583651101.0  600008424.0  616377605.0   \n",
              "2   10247780.0  ...   31541209.0   32716210.0   33753499.0   34636207.0   \n",
              "3  115921723.0  ...  387204553.0  397855507.0  408690375.0  419778384.0   \n",
              "4    5868203.0  ...   26147002.0   27128337.0   28127721.0   29154746.0   \n",
              "\n",
              "          2017         2018         2019         2020         2021  \\\n",
              "0     105439.0     105962.0     106442.0     106585.0     106537.0   \n",
              "1  632746570.0  649757148.0  667242986.0  685112979.0  702977106.0   \n",
              "2   35643418.0   36686784.0   37769499.0   38972230.0   40099462.0   \n",
              "3  431138704.0  442646825.0  454306063.0  466189102.0  478185907.0   \n",
              "4   30208628.0   31273533.0   32353588.0   33428486.0   34503774.0   \n",
              "\n",
              "          2022  \n",
              "0     106445.0  \n",
              "1  720859132.0  \n",
              "2   41128771.0  \n",
              "3  490330870.0  \n",
              "4   35588987.0  \n",
              "\n",
              "[5 rows x 64 columns]"
            ],
            "text/html": [
              "\n",
              "  <div id=\"df-ed54b787-7617-44fb-a799-8665d3bd6145\" class=\"colab-df-container\">\n",
              "    <div>\n",
              "<style scoped>\n",
              "    .dataframe tbody tr th:only-of-type {\n",
              "        vertical-align: middle;\n",
              "    }\n",
              "\n",
              "    .dataframe tbody tr th {\n",
              "        vertical-align: top;\n",
              "    }\n",
              "\n",
              "    .dataframe thead th {\n",
              "        text-align: right;\n",
              "    }\n",
              "</style>\n",
              "<table border=\"1\" class=\"dataframe\">\n",
              "  <thead>\n",
              "    <tr style=\"text-align: right;\">\n",
              "      <th></th>\n",
              "      <th>Country Name</th>\n",
              "      <th>1960</th>\n",
              "      <th>1961</th>\n",
              "      <th>1962</th>\n",
              "      <th>1963</th>\n",
              "      <th>1964</th>\n",
              "      <th>1965</th>\n",
              "      <th>1966</th>\n",
              "      <th>1967</th>\n",
              "      <th>1968</th>\n",
              "      <th>...</th>\n",
              "      <th>2013</th>\n",
              "      <th>2014</th>\n",
              "      <th>2015</th>\n",
              "      <th>2016</th>\n",
              "      <th>2017</th>\n",
              "      <th>2018</th>\n",
              "      <th>2019</th>\n",
              "      <th>2020</th>\n",
              "      <th>2021</th>\n",
              "      <th>2022</th>\n",
              "    </tr>\n",
              "  </thead>\n",
              "  <tbody>\n",
              "    <tr>\n",
              "      <th>0</th>\n",
              "      <td>Aruba</td>\n",
              "      <td>54608.0</td>\n",
              "      <td>55811.0</td>\n",
              "      <td>56682.0</td>\n",
              "      <td>57475.0</td>\n",
              "      <td>58178.0</td>\n",
              "      <td>58782.0</td>\n",
              "      <td>59291.0</td>\n",
              "      <td>59522.0</td>\n",
              "      <td>59471.0</td>\n",
              "      <td>...</td>\n",
              "      <td>102880.0</td>\n",
              "      <td>103594.0</td>\n",
              "      <td>104257.0</td>\n",
              "      <td>104874.0</td>\n",
              "      <td>105439.0</td>\n",
              "      <td>105962.0</td>\n",
              "      <td>106442.0</td>\n",
              "      <td>106585.0</td>\n",
              "      <td>106537.0</td>\n",
              "      <td>106445.0</td>\n",
              "    </tr>\n",
              "    <tr>\n",
              "      <th>1</th>\n",
              "      <td>Africa Eastern and Southern</td>\n",
              "      <td>130692579.0</td>\n",
              "      <td>134169237.0</td>\n",
              "      <td>137835590.0</td>\n",
              "      <td>141630546.0</td>\n",
              "      <td>145605995.0</td>\n",
              "      <td>149742351.0</td>\n",
              "      <td>153955516.0</td>\n",
              "      <td>158313235.0</td>\n",
              "      <td>162875171.0</td>\n",
              "      <td>...</td>\n",
              "      <td>567892149.0</td>\n",
              "      <td>583651101.0</td>\n",
              "      <td>600008424.0</td>\n",
              "      <td>616377605.0</td>\n",
              "      <td>632746570.0</td>\n",
              "      <td>649757148.0</td>\n",
              "      <td>667242986.0</td>\n",
              "      <td>685112979.0</td>\n",
              "      <td>702977106.0</td>\n",
              "      <td>720859132.0</td>\n",
              "    </tr>\n",
              "    <tr>\n",
              "      <th>2</th>\n",
              "      <td>Afghanistan</td>\n",
              "      <td>8622466.0</td>\n",
              "      <td>8790140.0</td>\n",
              "      <td>8969047.0</td>\n",
              "      <td>9157465.0</td>\n",
              "      <td>9355514.0</td>\n",
              "      <td>9565147.0</td>\n",
              "      <td>9783147.0</td>\n",
              "      <td>10010030.0</td>\n",
              "      <td>10247780.0</td>\n",
              "      <td>...</td>\n",
              "      <td>31541209.0</td>\n",
              "      <td>32716210.0</td>\n",
              "      <td>33753499.0</td>\n",
              "      <td>34636207.0</td>\n",
              "      <td>35643418.0</td>\n",
              "      <td>36686784.0</td>\n",
              "      <td>37769499.0</td>\n",
              "      <td>38972230.0</td>\n",
              "      <td>40099462.0</td>\n",
              "      <td>41128771.0</td>\n",
              "    </tr>\n",
              "    <tr>\n",
              "      <th>3</th>\n",
              "      <td>Africa Western and Central</td>\n",
              "      <td>97256290.0</td>\n",
              "      <td>99314028.0</td>\n",
              "      <td>101445032.0</td>\n",
              "      <td>103667517.0</td>\n",
              "      <td>105959979.0</td>\n",
              "      <td>108336203.0</td>\n",
              "      <td>110798486.0</td>\n",
              "      <td>113319950.0</td>\n",
              "      <td>115921723.0</td>\n",
              "      <td>...</td>\n",
              "      <td>387204553.0</td>\n",
              "      <td>397855507.0</td>\n",
              "      <td>408690375.0</td>\n",
              "      <td>419778384.0</td>\n",
              "      <td>431138704.0</td>\n",
              "      <td>442646825.0</td>\n",
              "      <td>454306063.0</td>\n",
              "      <td>466189102.0</td>\n",
              "      <td>478185907.0</td>\n",
              "      <td>490330870.0</td>\n",
              "    </tr>\n",
              "    <tr>\n",
              "      <th>4</th>\n",
              "      <td>Angola</td>\n",
              "      <td>5357195.0</td>\n",
              "      <td>5441333.0</td>\n",
              "      <td>5521400.0</td>\n",
              "      <td>5599827.0</td>\n",
              "      <td>5673199.0</td>\n",
              "      <td>5736582.0</td>\n",
              "      <td>5787044.0</td>\n",
              "      <td>5827503.0</td>\n",
              "      <td>5868203.0</td>\n",
              "      <td>...</td>\n",
              "      <td>26147002.0</td>\n",
              "      <td>27128337.0</td>\n",
              "      <td>28127721.0</td>\n",
              "      <td>29154746.0</td>\n",
              "      <td>30208628.0</td>\n",
              "      <td>31273533.0</td>\n",
              "      <td>32353588.0</td>\n",
              "      <td>33428486.0</td>\n",
              "      <td>34503774.0</td>\n",
              "      <td>35588987.0</td>\n",
              "    </tr>\n",
              "  </tbody>\n",
              "</table>\n",
              "<p>5 rows × 64 columns</p>\n",
              "</div>\n",
              "    <div class=\"colab-df-buttons\">\n",
              "\n",
              "  <div class=\"colab-df-container\">\n",
              "    <button class=\"colab-df-convert\" onclick=\"convertToInteractive('df-ed54b787-7617-44fb-a799-8665d3bd6145')\"\n",
              "            title=\"Convert this dataframe to an interactive table.\"\n",
              "            style=\"display:none;\">\n",
              "\n",
              "  <svg xmlns=\"http://www.w3.org/2000/svg\" height=\"24px\" viewBox=\"0 -960 960 960\">\n",
              "    <path d=\"M120-120v-720h720v720H120Zm60-500h600v-160H180v160Zm220 220h160v-160H400v160Zm0 220h160v-160H400v160ZM180-400h160v-160H180v160Zm440 0h160v-160H620v160ZM180-180h160v-160H180v160Zm440 0h160v-160H620v160Z\"/>\n",
              "  </svg>\n",
              "    </button>\n",
              "\n",
              "  <style>\n",
              "    .colab-df-container {\n",
              "      display:flex;\n",
              "      gap: 12px;\n",
              "    }\n",
              "\n",
              "    .colab-df-convert {\n",
              "      background-color: #E8F0FE;\n",
              "      border: none;\n",
              "      border-radius: 50%;\n",
              "      cursor: pointer;\n",
              "      display: none;\n",
              "      fill: #1967D2;\n",
              "      height: 32px;\n",
              "      padding: 0 0 0 0;\n",
              "      width: 32px;\n",
              "    }\n",
              "\n",
              "    .colab-df-convert:hover {\n",
              "      background-color: #E2EBFA;\n",
              "      box-shadow: 0px 1px 2px rgba(60, 64, 67, 0.3), 0px 1px 3px 1px rgba(60, 64, 67, 0.15);\n",
              "      fill: #174EA6;\n",
              "    }\n",
              "\n",
              "    .colab-df-buttons div {\n",
              "      margin-bottom: 4px;\n",
              "    }\n",
              "\n",
              "    [theme=dark] .colab-df-convert {\n",
              "      background-color: #3B4455;\n",
              "      fill: #D2E3FC;\n",
              "    }\n",
              "\n",
              "    [theme=dark] .colab-df-convert:hover {\n",
              "      background-color: #434B5C;\n",
              "      box-shadow: 0px 1px 3px 1px rgba(0, 0, 0, 0.15);\n",
              "      filter: drop-shadow(0px 1px 2px rgba(0, 0, 0, 0.3));\n",
              "      fill: #FFFFFF;\n",
              "    }\n",
              "  </style>\n",
              "\n",
              "    <script>\n",
              "      const buttonEl =\n",
              "        document.querySelector('#df-ed54b787-7617-44fb-a799-8665d3bd6145 button.colab-df-convert');\n",
              "      buttonEl.style.display =\n",
              "        google.colab.kernel.accessAllowed ? 'block' : 'none';\n",
              "\n",
              "      async function convertToInteractive(key) {\n",
              "        const element = document.querySelector('#df-ed54b787-7617-44fb-a799-8665d3bd6145');\n",
              "        const dataTable =\n",
              "          await google.colab.kernel.invokeFunction('convertToInteractive',\n",
              "                                                    [key], {});\n",
              "        if (!dataTable) return;\n",
              "\n",
              "        const docLinkHtml = 'Like what you see? Visit the ' +\n",
              "          '<a target=\"_blank\" href=https://colab.research.google.com/notebooks/data_table.ipynb>data table notebook</a>'\n",
              "          + ' to learn more about interactive tables.';\n",
              "        element.innerHTML = '';\n",
              "        dataTable['output_type'] = 'display_data';\n",
              "        await google.colab.output.renderOutput(dataTable, element);\n",
              "        const docLink = document.createElement('div');\n",
              "        docLink.innerHTML = docLinkHtml;\n",
              "        element.appendChild(docLink);\n",
              "      }\n",
              "    </script>\n",
              "  </div>\n",
              "\n",
              "\n",
              "<div id=\"df-0a0d53ee-c871-45f6-90b2-b13f27672811\">\n",
              "  <button class=\"colab-df-quickchart\" onclick=\"quickchart('df-0a0d53ee-c871-45f6-90b2-b13f27672811')\"\n",
              "            title=\"Suggest charts\"\n",
              "            style=\"display:none;\">\n",
              "\n",
              "<svg xmlns=\"http://www.w3.org/2000/svg\" height=\"24px\"viewBox=\"0 0 24 24\"\n",
              "     width=\"24px\">\n",
              "    <g>\n",
              "        <path d=\"M19 3H5c-1.1 0-2 .9-2 2v14c0 1.1.9 2 2 2h14c1.1 0 2-.9 2-2V5c0-1.1-.9-2-2-2zM9 17H7v-7h2v7zm4 0h-2V7h2v10zm4 0h-2v-4h2v4z\"/>\n",
              "    </g>\n",
              "</svg>\n",
              "  </button>\n",
              "\n",
              "<style>\n",
              "  .colab-df-quickchart {\n",
              "      --bg-color: #E8F0FE;\n",
              "      --fill-color: #1967D2;\n",
              "      --hover-bg-color: #E2EBFA;\n",
              "      --hover-fill-color: #174EA6;\n",
              "      --disabled-fill-color: #AAA;\n",
              "      --disabled-bg-color: #DDD;\n",
              "  }\n",
              "\n",
              "  [theme=dark] .colab-df-quickchart {\n",
              "      --bg-color: #3B4455;\n",
              "      --fill-color: #D2E3FC;\n",
              "      --hover-bg-color: #434B5C;\n",
              "      --hover-fill-color: #FFFFFF;\n",
              "      --disabled-bg-color: #3B4455;\n",
              "      --disabled-fill-color: #666;\n",
              "  }\n",
              "\n",
              "  .colab-df-quickchart {\n",
              "    background-color: var(--bg-color);\n",
              "    border: none;\n",
              "    border-radius: 50%;\n",
              "    cursor: pointer;\n",
              "    display: none;\n",
              "    fill: var(--fill-color);\n",
              "    height: 32px;\n",
              "    padding: 0;\n",
              "    width: 32px;\n",
              "  }\n",
              "\n",
              "  .colab-df-quickchart:hover {\n",
              "    background-color: var(--hover-bg-color);\n",
              "    box-shadow: 0 1px 2px rgba(60, 64, 67, 0.3), 0 1px 3px 1px rgba(60, 64, 67, 0.15);\n",
              "    fill: var(--button-hover-fill-color);\n",
              "  }\n",
              "\n",
              "  .colab-df-quickchart-complete:disabled,\n",
              "  .colab-df-quickchart-complete:disabled:hover {\n",
              "    background-color: var(--disabled-bg-color);\n",
              "    fill: var(--disabled-fill-color);\n",
              "    box-shadow: none;\n",
              "  }\n",
              "\n",
              "  .colab-df-spinner {\n",
              "    border: 2px solid var(--fill-color);\n",
              "    border-color: transparent;\n",
              "    border-bottom-color: var(--fill-color);\n",
              "    animation:\n",
              "      spin 1s steps(1) infinite;\n",
              "  }\n",
              "\n",
              "  @keyframes spin {\n",
              "    0% {\n",
              "      border-color: transparent;\n",
              "      border-bottom-color: var(--fill-color);\n",
              "      border-left-color: var(--fill-color);\n",
              "    }\n",
              "    20% {\n",
              "      border-color: transparent;\n",
              "      border-left-color: var(--fill-color);\n",
              "      border-top-color: var(--fill-color);\n",
              "    }\n",
              "    30% {\n",
              "      border-color: transparent;\n",
              "      border-left-color: var(--fill-color);\n",
              "      border-top-color: var(--fill-color);\n",
              "      border-right-color: var(--fill-color);\n",
              "    }\n",
              "    40% {\n",
              "      border-color: transparent;\n",
              "      border-right-color: var(--fill-color);\n",
              "      border-top-color: var(--fill-color);\n",
              "    }\n",
              "    60% {\n",
              "      border-color: transparent;\n",
              "      border-right-color: var(--fill-color);\n",
              "    }\n",
              "    80% {\n",
              "      border-color: transparent;\n",
              "      border-right-color: var(--fill-color);\n",
              "      border-bottom-color: var(--fill-color);\n",
              "    }\n",
              "    90% {\n",
              "      border-color: transparent;\n",
              "      border-bottom-color: var(--fill-color);\n",
              "    }\n",
              "  }\n",
              "</style>\n",
              "\n",
              "  <script>\n",
              "    async function quickchart(key) {\n",
              "      const quickchartButtonEl =\n",
              "        document.querySelector('#' + key + ' button');\n",
              "      quickchartButtonEl.disabled = true;  // To prevent multiple clicks.\n",
              "      quickchartButtonEl.classList.add('colab-df-spinner');\n",
              "      try {\n",
              "        const charts = await google.colab.kernel.invokeFunction(\n",
              "            'suggestCharts', [key], {});\n",
              "      } catch (error) {\n",
              "        console.error('Error during call to suggestCharts:', error);\n",
              "      }\n",
              "      quickchartButtonEl.classList.remove('colab-df-spinner');\n",
              "      quickchartButtonEl.classList.add('colab-df-quickchart-complete');\n",
              "    }\n",
              "    (() => {\n",
              "      let quickchartButtonEl =\n",
              "        document.querySelector('#df-0a0d53ee-c871-45f6-90b2-b13f27672811 button');\n",
              "      quickchartButtonEl.style.display =\n",
              "        google.colab.kernel.accessAllowed ? 'block' : 'none';\n",
              "    })();\n",
              "  </script>\n",
              "</div>\n",
              "    </div>\n",
              "  </div>\n"
            ],
            "application/vnd.google.colaboratory.intrinsic+json": {
              "type": "dataframe",
              "variable_name": "df"
            }
          },
          "metadata": {},
          "execution_count": 43
        }
      ]
    },
    {
      "cell_type": "markdown",
      "source": [
        "В следующих ячейках мы создаем объекты:\n",
        "\n",
        "* `years` - список годов в данных\n",
        "\n",
        "* `aruba_population` - население на Арубе по годам"
      ],
      "metadata": {
        "id": "bGkAUIHpBc9S"
      }
    },
    {
      "cell_type": "code",
      "source": [
        "years = df.columns[1:].astype(int)\n",
        "\n",
        "years[-5:]"
      ],
      "metadata": {
        "colab": {
          "base_uri": "https://localhost:8080/"
        },
        "id": "ZpICO4U27zCy",
        "outputId": "d7c6c41b-5425-42b6-fa83-1f818d358f8f"
      },
      "execution_count": null,
      "outputs": [
        {
          "output_type": "execute_result",
          "data": {
            "text/plain": [
              "Int64Index([2018, 2019, 2020, 2021, 2022], dtype='int64')"
            ]
          },
          "metadata": {},
          "execution_count": 50
        }
      ]
    },
    {
      "cell_type": "code",
      "source": [
        "aruba_population = df[df['Country Name'] == 'Aruba'].values[0][1:]\n",
        "\n",
        "aruba_population[:5]"
      ],
      "metadata": {
        "colab": {
          "base_uri": "https://localhost:8080/"
        },
        "id": "E5fE9g4t7Mfn",
        "outputId": "9a723ab7-9e93-4f27-cab4-18c19e892349"
      },
      "execution_count": null,
      "outputs": [
        {
          "output_type": "execute_result",
          "data": {
            "text/plain": [
              "array([54608.0, 55811.0, 56682.0, 57475.0, 58178.0], dtype=object)"
            ]
          },
          "metadata": {},
          "execution_count": 45
        }
      ]
    },
    {
      "cell_type": "markdown",
      "source": [
        "Построим график численности населения на Арубе по годам."
      ],
      "metadata": {
        "id": "E8FqcrLBBnkM"
      }
    },
    {
      "cell_type": "code",
      "source": [
        "plt.plot(years, aruba_population, '-')"
      ],
      "metadata": {
        "colab": {
          "base_uri": "https://localhost:8080/",
          "height": 445
        },
        "id": "x_heYgUz7eyk",
        "outputId": "582f9cec-1b26-4a6f-a014-4689a9f8d1d1"
      },
      "execution_count": null,
      "outputs": [
        {
          "output_type": "execute_result",
          "data": {
            "text/plain": [
              "[<matplotlib.lines.Line2D at 0x7b9bfb23c640>]"
            ]
          },
          "metadata": {},
          "execution_count": 46
        },
        {
          "output_type": "display_data",
          "data": {
            "text/plain": [
              "<Figure size 640x480 with 1 Axes>"
            ],
            "image/png": "[encoded data removed]"
          },
          "metadata": {}
        }
      ]
    },
    {
      "cell_type": "markdown",
      "source": [
        "## Задание 1\n",
        "\n",
        "По аналогии с кодом выше нарисуйте график населения Болгарии.\n",
        "\n",
        "Можно ли сказать, что население постоянно растет?"
      ],
      "metadata": {
        "id": "6gT60xI98tzh"
      }
    },
    {
      "cell_type": "code",
      "source": [
        "# ваш код здесь"
      ],
      "metadata": {
        "id": "lLBJYNle8C28"
      },
      "execution_count": null,
      "outputs": []
    },
    {
      "cell_type": "markdown",
      "source": [
        "## Задание 2\n",
        "\n",
        "Вычислите среднее значение населения Болгарии за все годы, представленные в таблице. Ответ округлите до целого числа."
      ],
      "metadata": {
        "id": "8K1mGWAn87Vb"
      }
    },
    {
      "cell_type": "code",
      "source": [
        "# ваш код здесь"
      ],
      "metadata": {
        "id": "urnHJnbq82Ck"
      },
      "execution_count": null,
      "outputs": []
    },
    {
      "cell_type": "markdown",
      "source": [
        "## Задание 3\n",
        "\n",
        "Вычислите среднее значение населения Болгарии за пять последних лет, представленных в таблице. Верно ли, что в среднем за пять последних лет наблюдается прирост населения по сравнению со средним значением за все годы?"
      ],
      "metadata": {
        "id": "57LDVkGf9TRW"
      }
    },
    {
      "cell_type": "code",
      "source": [
        "# ваш код здесь"
      ],
      "metadata": {
        "id": "ADssydSY9NPK"
      },
      "execution_count": null,
      "outputs": []
    },
    {
      "cell_type": "markdown",
      "source": [
        "## Задание 4\n",
        "\n",
        "Вычислите медиану населения Болгарии за все годы из таблицы. Ответ округлите до целого числа."
      ],
      "metadata": {
        "id": "fnfqP6dm9mLM"
      }
    },
    {
      "cell_type": "code",
      "source": [
        "# ваш код здесь"
      ],
      "metadata": {
        "id": "XSGGzwjg9aMO"
      },
      "execution_count": null,
      "outputs": []
    },
    {
      "cell_type": "markdown",
      "source": [
        "## Задание 5\n",
        "\n",
        "Найдите страну, население которой ведет себя похожим образом (как в Болгарии) - сначала растет, а потом падает. Что это за страна (из перечисленных)?\n",
        "\n",
        "* Доминиканская республика\n",
        "* Хорватия\n",
        "* Эритрея\n",
        "* Германия\n",
        "* Косово"
      ],
      "metadata": {
        "id": "1KM8ZiEU924D"
      }
    },
    {
      "cell_type": "code",
      "source": [
        "# ваш код здесь"
      ],
      "metadata": {
        "id": "nwLbJOwl9slA"
      },
      "execution_count": null,
      "outputs": []
    },
    {
      "cell_type": "markdown",
      "source": [
        "## Задание 6\n",
        "\n",
        "В каком году в найденной в предыдущем задании стране был пик населения?"
      ],
      "metadata": {
        "id": "sro6HTvI-bWl"
      }
    },
    {
      "cell_type": "code",
      "source": [
        "# ваш код здесь"
      ],
      "metadata": {
        "id": "RmUDOzF6-h1F"
      },
      "execution_count": null,
      "outputs": []
    },
    {
      "cell_type": "markdown",
      "source": [
        "## Задание 7\n",
        "\n",
        "Вычислите корреляцию Пирсона между населением Болгарии и страны, найденной в задании 5. Ответ округлите до сотых."
      ],
      "metadata": {
        "id": "4HsdXyzR-33n"
      }
    },
    {
      "cell_type": "code",
      "source": [
        "# ваш код здесь"
      ],
      "metadata": {
        "id": "p8BmwOyl-p0j"
      },
      "execution_count": null,
      "outputs": []
    },
    {
      "cell_type": "markdown",
      "source": [
        "## Задание 8\n",
        "\n",
        "Вычислите несмещенное выборочное стандартное отклонение для населения страны, найденной в задании 5. Ответ округлите до целого числа."
      ],
      "metadata": {
        "id": "4r0pGSGl_7uY"
      }
    },
    {
      "cell_type": "code",
      "source": [
        "# ваш код здесь"
      ],
      "metadata": {
        "id": "6OYx_Tsd_Jep"
      },
      "execution_count": null,
      "outputs": []
    },
    {
      "cell_type": "markdown",
      "source": [
        "## Задание 9\n",
        "\n",
        "Вычислите несмещенное выборочное стандартное отклонение для населения Болгарии. Верно ли, что в Болгарии \"разброс\" относительно среднего количества населения больше, чем в стране, найденной в задании 5?"
      ],
      "metadata": {
        "id": "_oSefk5BAWvA"
      }
    },
    {
      "cell_type": "code",
      "source": [
        "# ваш код здесь"
      ],
      "metadata": {
        "id": "YmEGcZGbASuN"
      },
      "execution_count": null,
      "outputs": []
    },
    {
      "cell_type": "markdown",
      "source": [
        "## Задание 10\n",
        "\n",
        "Мы нашли две страны, в которых количество населения изменяется похожим образом. Попробуйте дать объяснение (исторические, социальные, экономические факторы) этому. Пишите ваш ответ в комментариях."
      ],
      "metadata": {
        "id": "2z-PLkqxAlBB"
      }
    },
    {
      "cell_type": "code",
      "source": [
        "# ваши мысли"
      ],
      "metadata": {
        "id": "qAY6SqTIAjuo"
      },
      "execution_count": null,
      "outputs": []
    },
    {
      "cell_type": "markdown",
      "source": [
        "## Задание 11 (бонус)\n",
        "\n",
        "Есть ли в данных другие страны, население которых также похожим образом ведет себя на поведение численности населения в Болгарии? Среди этих стран есть ли та, корреляция населения которой с населением Болгарии больше найденной в задании 7?\n",
        "\n",
        "Перечислите в комментариях найденные страны, а также укажите страну-лидер по корреляции с населением Болгарии."
      ],
      "metadata": {
        "id": "8TPBT4PgAx0Z"
      }
    },
    {
      "cell_type": "code",
      "source": [
        "# ваши эксперименты здесь"
      ],
      "metadata": {
        "id": "Xh6MpUOzBBaK"
      },
      "execution_count": null,
      "outputs": []
    }
  ]
}