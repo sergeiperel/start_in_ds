{
  "nbformat": 4,
  "nbformat_minor": 0,
  "metadata": {
    "colab": {
      "provenance": []
    },
    "kernelspec": {
      "name": "python3",
      "display_name": "Python 3"
    },
    "language_info": {
      "name": "python"
    }
  },
  "cells": [
    {
      "cell_type": "markdown",
      "source": [
        "# Домашнее задание 1"
      ],
      "metadata": {
        "id": "rKXnM9Ng_mum"
      }
    },
    {
      "cell_type": "markdown",
      "source": [
        "**Темы**\n",
        "*   Переменные и арифметические действия\n",
        "*   Типы данных\n",
        "*   Условный оператор\n",
        "*   Циклы\n"
      ],
      "metadata": {
        "id": "uK_Ww3DV_qqb"
      }
    },
    {
      "cell_type": "markdown",
      "source": [
        "## Наибольшая цифра"
      ],
      "metadata": {
        "id": "rXYbSCfPo-P3"
      }
    },
    {
      "cell_type": "markdown",
      "source": [
        "Напишите программу, которая считывает одно натуральное число и выводит наибольшую цифру числа."
      ],
      "metadata": {
        "id": "EY7pRbpbo_t3"
      }
    },
    {
      "cell_type": "code",
      "source": [
        "num = input()\n",
        "max = num[0]\n",
        "for i in range(len(num)):\n",
        "    if num[i] > max:\n",
        "        max = num[i]\n",
        "print(max)"
      ],
      "metadata": {
        "id": "sEHKOhZBo_Lh",
        "colab": {
          "base_uri": "https://localhost:8080/"
        },
        "outputId": "2adf2b96-608f-43e8-9952-7c906e23ca1a"
      },
      "execution_count": null,
      "outputs": [
        {
          "output_type": "stream",
          "name": "stdout",
          "text": [
            "234\n",
            "4\n"
          ]
        }
      ]
    },
    {
      "cell_type": "markdown",
      "source": [
        "## Вкусный торт"
      ],
      "metadata": {
        "id": "jL9LKWuxpB7j"
      }
    },
    {
      "cell_type": "markdown",
      "source": [
        "На день рождения Мама испекла для Тани вкусный и красивый торт идеально круглой формы. Таня позвала всех детей из детского сада, поэтому мама не знала точно, сколько гостей придет на день рождения. Помогите написать программу, которая определяет наименьшее число разрезов торта по заданному числу гостей. Следует учесть, что разрезы торта можно производить как по радиусу, так и по диаметру."
      ],
      "metadata": {
        "id": "uTmLLPMOpC02"
      }
    },
    {
      "cell_type": "code",
      "source": [
        "num = int(input())\n",
        "if num == 1:\n",
        "    kol = 0\n",
        "elif num % 2 == 0:\n",
        "    kol = num // 2\n",
        "else:\n",
        "    kol = num\n",
        "print(kol)"
      ],
      "metadata": {
        "id": "i_mTdSFGpCZ4",
        "colab": {
          "base_uri": "https://localhost:8080/"
        },
        "outputId": "7b26510c-b9dc-4ce3-8c12-159d3cf2057f"
      },
      "execution_count": null,
      "outputs": [
        {
          "output_type": "stream",
          "name": "stdout",
          "text": [
            "12\n",
            "6\n"
          ]
        }
      ]
    },
    {
      "cell_type": "markdown",
      "source": [
        "## Следующее четное"
      ],
      "metadata": {
        "id": "XkC4AZ7ppEkT"
      }
    },
    {
      "cell_type": "markdown",
      "source": [
        "Напишите программу, которая считывает одно целое число и выводит следующее за ним четное число."
      ],
      "metadata": {
        "id": "5Cqab_9npFon"
      }
    },
    {
      "cell_type": "code",
      "source": [
        "num = int(input())\n",
        "if num % 2 == 0:\n",
        "    kol = num + 2\n",
        "else:\n",
        "    kol = num + 1\n",
        "print(kol)"
      ],
      "metadata": {
        "id": "5iafyFSvpE_q",
        "colab": {
          "base_uri": "https://localhost:8080/"
        },
        "outputId": "8f486f06-825e-44bc-ef4b-4df161499299"
      },
      "execution_count": null,
      "outputs": [
        {
          "output_type": "stream",
          "name": "stdout",
          "text": [
            "7\n",
            "8\n"
          ]
        }
      ]
    },
    {
      "cell_type": "markdown",
      "source": [
        "## Разборчивая невеста"
      ],
      "metadata": {
        "id": "BK4DJngPpH2a"
      }
    },
    {
      "cell_type": "markdown",
      "source": [
        "У разборчивой невесты есть любимые цветы - розы и любимое их количество в букете. Поэтому при выборе женихов она руководствуется правилом: \"жених должен подарить почти идеальный букет из роз\". По известному любимому числу невесты - N и количества роз в букетах от женихов: A , B и C штук (все дарят разные букеты, отличающиеся от идеального по-разному), определите, которого она выберет."
      ],
      "metadata": {
        "id": "mPG-w79cpJGO"
      }
    },
    {
      "cell_type": "code",
      "source": [
        "n = int(input())\n",
        "a = int(input())\n",
        "b = int(input())\n",
        "c = int(input())\n",
        "\n",
        "if abs(n - a) <= abs(n - b) and abs(n - a) <= abs(n - c):\n",
        "    print(\"A\")\n",
        "elif abs(n - b) <= abs(n - a) and abs(n - b) <= abs(n - c):\n",
        "    print(\"B\")\n",
        "else:\n",
        "    print(\"C\")"
      ],
      "metadata": {
        "id": "7X2qOqKUpIqM",
        "colab": {
          "base_uri": "https://localhost:8080/"
        },
        "outputId": "aa4c8c3d-a2da-4a29-ce7e-58990c95b3ec"
      },
      "execution_count": null,
      "outputs": [
        {
          "output_type": "stream",
          "name": "stdout",
          "text": [
            "25\n",
            "15\n",
            "10\n",
            "30\n",
            "C\n"
          ]
        }
      ]
    },
    {
      "cell_type": "markdown",
      "source": [
        "## Треугольник ли"
      ],
      "metadata": {
        "id": "Ue0rFhq3pLhF"
      }
    },
    {
      "cell_type": "markdown",
      "source": [
        "По трем натуральным числам a, b, c определите, существует ли треугольник с такими сторонами. Если треугольник существует, выведите строку YES, иначе выведите строку NO.\n",
        "\n",
        "Напомним, что каждая сторона треугольника всегда меньше суммы двух других (неравенство треугольника)."
      ],
      "metadata": {
        "id": "4GyU6cMbpMRa"
      }
    },
    {
      "cell_type": "code",
      "source": [
        "a = int(input())\n",
        "b = int(input())\n",
        "c = int(input())\n",
        "\n",
        "if a < b + c and b < a + c and c < a + b:\n",
        "    print(\"YES\")\n",
        "else:\n",
        "    print(\"NO\")"
      ],
      "metadata": {
        "id": "kXmLujnQpL6C",
        "colab": {
          "base_uri": "https://localhost:8080/"
        },
        "outputId": "38cb4329-3a7d-49fa-c314-e23fe7cf31b1"
      },
      "execution_count": null,
      "outputs": [
        {
          "output_type": "stream",
          "name": "stdout",
          "text": [
            "5\n",
            "3\n",
            "2\n",
            "NO\n"
          ]
        }
      ]
    },
    {
      "cell_type": "markdown",
      "source": [
        "## Замечательные числа"
      ],
      "metadata": {
        "id": "isfW-NdkpOc5"
      }
    },
    {
      "cell_type": "markdown",
      "source": [
        "Найдите и выведите все трехзначные числа, которые в 70 раз больше суммы своих цифр. Результат выведите в порядке возрастания в одной строке."
      ],
      "metadata": {
        "id": "G3qPCirZpqDW"
      }
    },
    {
      "cell_type": "code",
      "source": [
        "numbers = []\n",
        "\n",
        "for i in range(100, 1000):\n",
        "    if i == sum([int(d) for d in str(i)]) * 70:\n",
        "        numbers.append(i)\n",
        "\n",
        "print(*numbers)"
      ],
      "metadata": {
        "id": "Uvos0kMXpPPR",
        "colab": {
          "base_uri": "https://localhost:8080/"
        },
        "outputId": "704f3f97-b03f-48fe-efe4-2b49082e9b3b"
      },
      "execution_count": null,
      "outputs": [
        {
          "output_type": "stream",
          "name": "stdout",
          "text": [
            "210 420 630 840\n"
          ]
        }
      ]
    },
    {
      "cell_type": "markdown",
      "source": [
        "## Счастливый билетик"
      ],
      "metadata": {
        "id": "eCIwbEtCpSS8"
      }
    },
    {
      "cell_type": "markdown",
      "source": [
        "Маша каждый день ездит в школу и обратно на трамвае. У нее собралась коллекция билетиков. Маша считает билетик счастливым, если сумма первых трех цифр равна сумме последних трех. Помогите Маше сосчитать количество счастливых билетиков в ее коллекции."
      ],
      "metadata": {
        "id": "XHeNu6C6pTAL"
      }
    },
    {
      "cell_type": "code",
      "source": [
        "n = int(input())\n",
        "count = 0\n",
        "\n",
        "for i in range(n):\n",
        "    ticket = input()\n",
        "    sum_first_half = int(ticket[0]) + int(ticket[1]) + int(ticket[2])\n",
        "    sum_second_half = int(ticket[3]) + int(ticket[4]) + int(ticket[5])\n",
        "\n",
        "    if sum_first_half == sum_second_half:\n",
        "        count += 1\n",
        "\n",
        "print(count)"
      ],
      "metadata": {
        "id": "vldqdNpHpSqb",
        "colab": {
          "base_uri": "https://localhost:8080/"
        },
        "outputId": "1d79417c-0858-4595-ba37-1699242c4c5a"
      },
      "execution_count": null,
      "outputs": [
        {
          "output_type": "stream",
          "name": "stdout",
          "text": [
            "3\n",
            "123456\n",
            "111300\n",
            "345345\n",
            "2\n"
          ]
        }
      ]
    },
    {
      "cell_type": "markdown",
      "source": [
        "## Любимая школа"
      ],
      "metadata": {
        "id": "i0fEA2fOxHlY"
      }
    },
    {
      "cell_type": "markdown",
      "source": [
        "У Лены в школе занятия начинаются в 8:00. Продолжительность каждого урока — 45 минут, после 1-го, 3-го, 5-го и т.д. уроков перемена 5 минут, а после 2-го, 4-го, 6-го и т.д. — 10 минут. Помогите Лене определить, когда заканчивается указанный урок."
      ],
      "metadata": {
        "id": "YMAcvpINxJlY"
      }
    },
    {
      "cell_type": "code",
      "source": [
        "lesson_number = int(input())\n",
        "\n",
        "total_minutes = lesson_number * 45 + (lesson_number // 2) * 5 + ((lesson_number + 1) // 2 - 1) * 10\n",
        "\n",
        "end_hour = 8 + total_minutes // 60\n",
        "end_minute = total_minutes % 60\n",
        "\n",
        "print(end_hour, end_minute)"
      ],
      "metadata": {
        "id": "bX2GwotexJ5t",
        "colab": {
          "base_uri": "https://localhost:8080/"
        },
        "outputId": "7b6c45be-df52-4f51-d111-7b52dbf90f3e"
      },
      "execution_count": null,
      "outputs": [
        {
          "output_type": "stream",
          "name": "stdout",
          "text": [
            "3\n",
            "10 30\n"
          ]
        }
      ]
    },
    {
      "cell_type": "markdown",
      "source": [
        "## Детский лепет-1"
      ],
      "metadata": {
        "id": "trrxjkP8pZ2G"
      }
    },
    {
      "cell_type": "markdown",
      "source": [
        "Саша - очень смышленый малыш и каждый день радует маму новым произнесенным словом. Мама аккуратно записывает их в блокнотик. Помогите маме найти самое длинное слово, которое знает Саша. Если несколько слов имеют одинаковую максимальную длину, выведите первое из них."
      ],
      "metadata": {
        "id": "9FLOch8bpaum"
      }
    },
    {
      "cell_type": "code",
      "source": [
        "words = []\n",
        "max_word = \"\"\n",
        "\n",
        "while True:\n",
        "    word = input()\n",
        "    if word == \"КОНЕЦ\":\n",
        "        break\n",
        "    words.append(word)\n",
        "    if len(word) > len(max_word):\n",
        "        max_word = word\n",
        "\n",
        "print(max_word)"
      ],
      "metadata": {
        "id": "E5UOjb77paVR",
        "colab": {
          "base_uri": "https://localhost:8080/"
        },
        "outputId": "b249f65a-f940-4518-d754-86461d638d7e"
      },
      "execution_count": null,
      "outputs": [
        {
          "output_type": "stream",
          "name": "stdout",
          "text": [
            "мама\n",
            "папа\n",
            "кот\n",
            "паровоз\n",
            "КОНЕЦ\n",
            "паровоз\n"
          ]
        }
      ]
    },
    {
      "cell_type": "markdown",
      "source": [
        "## Детский лепет-2"
      ],
      "metadata": {
        "id": "cfnKKmarpcXc"
      }
    },
    {
      "cell_type": "markdown",
      "source": [
        "Папа Саши заинтересовался списком слов, которые мама аккуратно выписывает в блокнотик. Однако решил выяснить, какова средняя длина слова, которое знает Саша. Помогите папе найти среднюю длину слова из словаря Саши."
      ],
      "metadata": {
        "id": "e9A_-cS8pdew"
      }
    },
    {
      "cell_type": "code",
      "source": [
        "words = []\n",
        "while True:\n",
        "    word = input()\n",
        "    if word == 'КОНЕЦ':\n",
        "        break\n",
        "    words.append(word)\n",
        "\n",
        "average_length = sum(len(word) for word in words) / len(words)\n",
        "print(round(average_length, 1))"
      ],
      "metadata": {
        "id": "Y223eZd_pdEs",
        "colab": {
          "base_uri": "https://localhost:8080/"
        },
        "outputId": "ef3b37aa-13ca-42e0-cb81-9123f57f767f"
      },
      "execution_count": null,
      "outputs": [
        {
          "output_type": "stream",
          "name": "stdout",
          "text": [
            "мама\n",
            "папа\n",
            "няня\n",
            "КОНЕЦ\n",
            "4.0\n"
          ]
        }
      ]
    },
    {
      "cell_type": "markdown",
      "source": [
        "## Эх, Вася, Вася"
      ],
      "metadata": {
        "id": "rfXEH1MFs8s6"
      }
    },
    {
      "cell_type": "markdown",
      "source": [
        "На скучном уроке математики Вася решил заняться творчеством. Для этого в тетради в клетку он выделил прямоугольник размера N×M и стал закрашивать клетки, начиная с левого верхнего угла по спирали, закручивающейся к центру.\n",
        "Для заданных значений N и M определите, сколько клеток пришлось закрасить Васе."
      ],
      "metadata": {
        "id": "PZ1LUtiytCW6"
      }
    },
    {
      "cell_type": "code",
      "source": [
        "n = int(input())\n",
        "m = int(input())\n",
        "s = 0\n",
        "if n == 2:\n",
        "    s1 = m + 1\n",
        "    print(s)\n",
        "elif m == 2:\n",
        "    s1 = n + 1\n",
        "    print(s)\n",
        "elif n * m == 1:\n",
        "    print(n)\n",
        "elif n == 1:\n",
        "    print(m)\n",
        "elif m == 1:\n",
        "    print(n)\n",
        "else:\n",
        "    s = 2 * n + m - 2\n",
        "    n -= 1\n",
        "    m -= 1\n",
        "    while n * m > 4:\n",
        "        if n*m > 4 and n >= 2 and m >= 2:\n",
        "            s += m - 2\n",
        "            m -= 2\n",
        "        if n - 2 < 0:\n",
        "            break\n",
        "        elif n * m > 4:\n",
        "            s += n - 2\n",
        "            n -= 2\n",
        "\n",
        "    print(s)"
      ],
      "metadata": {
        "colab": {
          "base_uri": "https://localhost:8080/"
        },
        "id": "B63v7hols-8I",
        "outputId": "ad71879c-db48-4fce-8cdd-6b9d528af8c1"
      },
      "execution_count": null,
      "outputs": [
        {
          "output_type": "stream",
          "name": "stdout",
          "text": [
            "5\n",
            "6\n",
            "20\n"
          ]
        }
      ]
    }
  ]
}